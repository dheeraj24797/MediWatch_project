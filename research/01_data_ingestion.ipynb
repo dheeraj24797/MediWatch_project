{
 "cells": [
  {
   "cell_type": "code",
   "execution_count": 1,
   "id": "13e834cb",
   "metadata": {},
   "outputs": [],
   "source": [
    "import os"
   ]
  },
  {
   "cell_type": "code",
   "execution_count": 2,
   "id": "ba0944c8",
   "metadata": {},
   "outputs": [
    {
     "data": {
      "text/plain": [
       "'c:\\\\Users\\\\Dheer\\\\OneDrive\\\\Desktop\\\\MLOps\\\\MediWatch_project\\\\research'"
      ]
     },
     "execution_count": 2,
     "metadata": {},
     "output_type": "execute_result"
    }
   ],
   "source": [
    "%pwd"
   ]
  },
  {
   "cell_type": "code",
   "execution_count": 3,
   "id": "6fb53d66",
   "metadata": {},
   "outputs": [],
   "source": [
    "# Change present working directory to root directory\n",
    "os.chdir('../')"
   ]
  },
  {
   "cell_type": "code",
   "execution_count": 4,
   "id": "ffcab70b",
   "metadata": {},
   "outputs": [
    {
     "data": {
      "text/plain": [
       "'c:\\\\Users\\\\Dheer\\\\OneDrive\\\\Desktop\\\\MLOps\\\\MediWatch_project'"
      ]
     },
     "execution_count": 4,
     "metadata": {},
     "output_type": "execute_result"
    }
   ],
   "source": [
    "%pwd"
   ]
  },
  {
   "cell_type": "code",
   "execution_count": 5,
   "id": "630aa6f4",
   "metadata": {},
   "outputs": [],
   "source": [
    "from dataclasses import dataclass\n",
    "from pathlib import Path\n",
    "\n",
    "@dataclass(frozen=True)\n",
    "class DataIngestionConfig:\n",
    "    root_dir: Path\n",
    "    source_URL: str\n",
    "    local_data_file: Path\n",
    "    unzip_dir: Path"
   ]
  },
  {
   "cell_type": "code",
   "execution_count": 6,
   "id": "d46d7599",
   "metadata": {},
   "outputs": [],
   "source": [
    "from Mediwatch_project.constants import *\n",
    "from Mediwatch_project.utils.common import read_yaml, create_directories"
   ]
  },
  {
   "cell_type": "code",
   "execution_count": 7,
   "id": "6660c13a",
   "metadata": {},
   "outputs": [],
   "source": [
    "class ConfigurationManager:\n",
    "    def __init__(\n",
    "        self,\n",
    "        config_filepath = CONFIG_FILE_PATH,\n",
    "        params_filepath = PARAMS_FILE_PATH,\n",
    "        schema_filepath = SCHEMA_FILE_PATH):\n",
    "\n",
    "        self.config = read_yaml(config_filepath)\n",
    "        self.params = read_yaml(params_filepath)\n",
    "        self.schema = read_yaml(schema_filepath)\n",
    "\n",
    "        create_directories([self.config.artifacts_root])\n",
    "\n",
    "\n",
    "    \n",
    "    def get_data_ingestion_config(self) -> DataIngestionConfig:\n",
    "        config = self.config.data_ingestion\n",
    "\n",
    "        create_directories([config.root_dir])\n",
    "\n",
    "        data_ingestion_config = DataIngestionConfig(\n",
    "            root_dir=config.root_dir,\n",
    "            source_URL=config.source_URL,\n",
    "            local_data_file=config.local_data_file,\n",
    "            unzip_dir=config.unzip_dir \n",
    "        )\n",
    "\n",
    "        return data_ingestion_config"
   ]
  },
  {
   "cell_type": "code",
   "execution_count": 8,
   "id": "5ae507fd",
   "metadata": {},
   "outputs": [],
   "source": [
    "import os\n",
    "import pandas as pd\n",
    "import urllib.request as request\n",
    "import zipfile\n",
    "from Mediwatch_project import logger\n",
    "from Mediwatch_project.utils.common import get_size\n"
   ]
  },
  {
   "cell_type": "code",
   "execution_count": 10,
   "id": "09ae4624",
   "metadata": {},
   "outputs": [],
   "source": [
    "class DataIngestion:\n",
    "    def __init__(self, config: DataIngestionConfig):\n",
    "        self.config = config\n",
    "\n",
    "    def download_file(self):\n",
    "        if not os.path.exists(self.config.local_data_file):\n",
    "            filename, headers = request.urlretrieve(\n",
    "                url = self.config.source_URL,\n",
    "                filename = self.config.local_data_file\n",
    "            )\n",
    "            logger.info(f\"{filename} download! with following info: \\n{headers}\")\n",
    "        else:\n",
    "            logger.info(f\"File already exists of size: {get_size(Path(self.config.local_data_file))}\")\n",
    "\n",
    "    def extract_zip_file(self):\n",
    "        unzip_path = self.config.unzip_dir\n",
    "        os.makedirs(unzip_path, exist_ok=True)\n",
    "        with zipfile.ZipFile(self.config.local_data_file, 'r') as zip_ref:\n",
    "            zip_ref.extractall(unzip_path)\n",
    "        "
   ]
  },
  {
   "cell_type": "code",
   "execution_count": 11,
   "id": "2d56b161",
   "metadata": {},
   "outputs": [
    {
     "name": "stdout",
     "output_type": "stream",
     "text": [
      "[2025-08-04 20:02:46,071: INFO: common: Raw YAML content from WindowsPath('config/config.yaml'): {'artifacts_root': 'artifacts', 'data_ingestion': {'root_dir': 'artifacts/data_ingestion', 'source_URL': 'https://raw.githubusercontent.com/dheeraj24797/MediWatch_project/main/diabetic_data.zip', 'local_data_file': 'artifacts/data_ingestion/data.zip', 'unzip_dir': 'artifacts/data_ingestion'}} (type=<class 'dict'>)]\n",
      "[2025-08-04 20:02:46,079: INFO: common: YAML file: config\\config.yaml loaded successfully]\n",
      "[2025-08-04 20:02:46,083: INFO: common: Raw YAML content from WindowsPath('params.yaml'): {'model_params': {'learning_rate': 0.01, 'n_estimators': 100}} (type=<class 'dict'>)]\n",
      "[2025-08-04 20:02:46,087: INFO: common: YAML file: params.yaml loaded successfully]\n",
      "[2025-08-04 20:02:46,091: INFO: common: Raw YAML content from WindowsPath('schema.yaml'): {'COLUMNS': 'encounter_id:int64 patient_nbr:int64 race:object gender:object age:object weight:object admission_type_id:int64 discharge_disposition_id:int64 admission_source_id:int64 time_in_hospital:int64 payer_code:object medical_specialty:object num_lab_procedures:int64 num_procedures:int64 num_medications:int64 number_outpatient:int64 number_emergency:int64 number_inpatient:int64 diag_1:object diag_2:object diag_3:object number_diagnoses:int64 max_glu_serum:object A1Cresult:object metformin:object repaglinide:object nateglinide:object chlorpropamide:object glimepiride:object acetohexamide:object glipizide:object glyburide:object tolbutamide:object pioglitazone:object rosiglitazone:object acarbose:object miglitol:object troglitazone:object tolazamide:object examide:object citoglipton:object insulin:object glyburide-metformin:object glipizide-metformin:object glimepiride-pioglitazone:object metformin-rosiglitazone:object metformin-pioglitazone:object change:object diabetesMed:object', 'TARGET_COLUMN': 'readmitted:object'} (type=<class 'dict'>)]\n",
      "[2025-08-04 20:02:46,091: INFO: common: YAML file: schema.yaml loaded successfully]\n",
      "[2025-08-04 20:02:46,098: INFO: common: created directory at: artifacts]\n",
      "[2025-08-04 20:02:46,101: INFO: common: created directory at: artifacts/data_ingestion]\n",
      "[2025-08-04 20:02:47,332: INFO: 2282204742: artifacts/data_ingestion/data.zip download! with following info: \n",
      "Connection: close\n",
      "Content-Length: 3314619\n",
      "Cache-Control: max-age=300\n",
      "Content-Security-Policy: default-src 'none'; style-src 'unsafe-inline'; sandbox\n",
      "Content-Type: application/zip\n",
      "ETag: \"559dcf83e23190c056451edc4848059cea03dfadc99277282219fffdc9cc3676\"\n",
      "Strict-Transport-Security: max-age=31536000\n",
      "X-Content-Type-Options: nosniff\n",
      "X-Frame-Options: deny\n",
      "X-XSS-Protection: 1; mode=block\n",
      "X-GitHub-Request-Id: EF5A:386E6D:EA05C:134C7E:68915834\n",
      "Accept-Ranges: bytes\n",
      "Date: Tue, 05 Aug 2025 01:02:47 GMT\n",
      "Via: 1.1 varnish\n",
      "X-Served-By: cache-dfw-ktki8620060-DFW\n",
      "X-Cache: MISS\n",
      "X-Cache-Hits: 0\n",
      "X-Timer: S1754355767.842303,VS0,VE318\n",
      "Vary: Authorization,Accept-Encoding\n",
      "Access-Control-Allow-Origin: *\n",
      "Cross-Origin-Resource-Policy: cross-origin\n",
      "X-Fastly-Request-ID: c82a447bf523373e1d0af86ac4af2781e79a63f5\n",
      "Expires: Tue, 05 Aug 2025 01:07:47 GMT\n",
      "Source-Age: 0\n",
      "\n",
      "]\n"
     ]
    }
   ],
   "source": [
    "try:\n",
    "    config = ConfigurationManager()\n",
    "    data_ingestion_config = config.get_data_ingestion_config()\n",
    "    data_ingestion = DataIngestion(config=data_ingestion_config)\n",
    "    data_ingestion.download_file()\n",
    "    data_ingestion.extract_zip_file()\n",
    "except Exception as e:\n",
    "    raise e"
   ]
  }
 ],
 "metadata": {
  "kernelspec": {
   "display_name": "Python 3",
   "language": "python",
   "name": "python3"
  },
  "language_info": {
   "codemirror_mode": {
    "name": "ipython",
    "version": 3
   },
   "file_extension": ".py",
   "mimetype": "text/x-python",
   "name": "python",
   "nbconvert_exporter": "python",
   "pygments_lexer": "ipython3",
   "version": "3.9.23"
  }
 },
 "nbformat": 4,
 "nbformat_minor": 5
}
