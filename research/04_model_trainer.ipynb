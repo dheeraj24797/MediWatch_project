{
 "cells": [
  {
   "cell_type": "code",
   "execution_count": 1,
   "id": "0144a033",
   "metadata": {},
   "outputs": [],
   "source": [
    "import os"
   ]
  },
  {
   "cell_type": "code",
   "execution_count": 2,
   "id": "0d2d7f6d",
   "metadata": {},
   "outputs": [
    {
     "data": {
      "text/plain": [
       "'c:\\\\Users\\\\Dheer\\\\OneDrive\\\\Desktop\\\\MLOps\\\\MediWatch_project\\\\research'"
      ]
     },
     "execution_count": 2,
     "metadata": {},
     "output_type": "execute_result"
    }
   ],
   "source": [
    "%pwd"
   ]
  },
  {
   "cell_type": "code",
   "execution_count": 3,
   "id": "1d7e42c7",
   "metadata": {},
   "outputs": [],
   "source": [
    "os.chdir(\"../\")"
   ]
  },
  {
   "cell_type": "code",
   "execution_count": 4,
   "id": "0131bc0b",
   "metadata": {},
   "outputs": [
    {
     "data": {
      "text/plain": [
       "'c:\\\\Users\\\\Dheer\\\\OneDrive\\\\Desktop\\\\MLOps\\\\MediWatch_project'"
      ]
     },
     "execution_count": 4,
     "metadata": {},
     "output_type": "execute_result"
    }
   ],
   "source": [
    "%pwd"
   ]
  },
  {
   "cell_type": "code",
   "execution_count": 5,
   "id": "c9582fbd",
   "metadata": {},
   "outputs": [],
   "source": [
    "from dataclasses import dataclass\n",
    "from pathlib import Path\n",
    "\n",
    "\n",
    "@dataclass(frozen=True)\n",
    "class ModelTrainerConfig:\n",
    "    root_dir: Path\n",
    "    train_data_path: Path\n",
    "    test_data_path: Path\n",
    "    model_name: str\n",
    "    n_estimators: float\n",
    "    max_depth: float\n",
    "    learning_rate: float\n",
    "    target_column: str"
   ]
  },
  {
   "cell_type": "code",
   "execution_count": 6,
   "id": "9191526c",
   "metadata": {},
   "outputs": [],
   "source": [
    "from Mediwatch_project.constants import *\n",
    "from Mediwatch_project.utils.common import read_yaml, create_directories"
   ]
  },
  {
   "cell_type": "code",
   "execution_count": 7,
   "id": "960fc4db",
   "metadata": {},
   "outputs": [],
   "source": [
    "class ConfigurationManager:\n",
    "    def __init__(\n",
    "        self,\n",
    "        config_filepath = CONFIG_FILE_PATH,\n",
    "        params_filepath = PARAMS_FILE_PATH,\n",
    "        schema_filepath = SCHEMA_FILE_PATH):\n",
    "\n",
    "        self.config = read_yaml(config_filepath)\n",
    "        self.params = read_yaml(params_filepath)\n",
    "        self.schema = read_yaml(schema_filepath)\n",
    "\n",
    "        create_directories([self.config.artifacts_root])\n",
    "\n",
    "    def get_model_trainer_config(self) -> ModelTrainerConfig:\n",
    "        config = self.config.model_trainer\n",
    "        params = self.params.model_params\n",
    "        schema =  self.schema.TARGET_COLUMN\n",
    "\n",
    "        create_directories([config.root_dir])\n",
    "\n",
    "        model_trainer_config = ModelTrainerConfig(\n",
    "            root_dir=config.root_dir,\n",
    "            train_data_path = config.train_data_path,\n",
    "            test_data_path = config.test_data_path,\n",
    "            model_name = config.model_name,\n",
    "            n_estimators = params.n_estimators,\n",
    "            max_depth = params.max_depth,\n",
    "            learning_rate = params.learning_rate,\n",
    "            target_column = schema.name\n",
    "        )\n",
    "        return model_trainer_config"
   ]
  },
  {
   "cell_type": "code",
   "execution_count": 8,
   "id": "512a3cac",
   "metadata": {},
   "outputs": [
    {
     "name": "stdout",
     "output_type": "stream",
     "text": [
      "Requirement already satisfied: scikit-learn in c:\\users\\dheer\\onedrive\\desktop\\mlops\\mediwatch_project\\env\\lib\\site-packages (1.5.1)\n",
      "Requirement already satisfied: numpy>=1.19.5 in c:\\users\\dheer\\onedrive\\desktop\\mlops\\mediwatch_project\\env\\lib\\site-packages (from scikit-learn) (1.26.4)\n",
      "Requirement already satisfied: scipy>=1.6.0 in c:\\users\\dheer\\onedrive\\desktop\\mlops\\mediwatch_project\\env\\lib\\site-packages (from scikit-learn) (1.13.1)\n",
      "Requirement already satisfied: joblib>=1.2.0 in c:\\users\\dheer\\onedrive\\desktop\\mlops\\mediwatch_project\\env\\lib\\site-packages (from scikit-learn) (1.5.1)\n",
      "Requirement already satisfied: threadpoolctl>=3.1.0 in c:\\users\\dheer\\onedrive\\desktop\\mlops\\mediwatch_project\\env\\lib\\site-packages (from scikit-learn) (3.5.0)\n",
      "Note: you may need to restart the kernel to use updated packages.\n"
     ]
    }
   ],
   "source": [
    "%pip install scikit-learn"
   ]
  },
  {
   "cell_type": "code",
   "execution_count": 8,
   "id": "91b1848c",
   "metadata": {},
   "outputs": [],
   "source": [
    "import pandas as pd\n",
    "import os\n",
    "from Mediwatch_project import logger\n",
    "import joblib\n",
    "import xgboost as xgb\n",
    "import numpy as np\n",
    "import sklearn"
   ]
  },
  {
   "cell_type": "code",
   "execution_count": null,
   "id": "c917fce4",
   "metadata": {},
   "outputs": [],
   "source": [
    "class ModelTrainer:\n",
    "    def __init__(self, config: ModelTrainerConfig):\n",
    "        self.config = config\n",
    "\n",
    "    def train(self):\n",
    "        # Load training and testing data\n",
    "        train_data = pd.read_csv(self.config.train_data_path)\n",
    "        test_data = pd.read_csv(self.config.test_data_path)\n",
    "\n",
    "        # Split features and target\n",
    "        train_x = train_data.drop([self.config.target_column], axis=1)\n",
    "        test_x = test_data.drop([self.config.target_column], axis=1)\n",
    "        train_y = train_data[self.config.target_column]\n",
    "        test_y = test_data[self.config.target_column]\n",
    "\n",
    "        # Handle categorical columns\n",
    "        for col in train_x.select_dtypes(['category']).columns:\n",
    "            train_x[col] = train_x[col].cat.codes\n",
    "            test_x[col] = test_x[col].cat.codes\n",
    "\n",
    "        # Handle class imbalance\n",
    "        neg, pos = np.bincount(train_y)\n",
    "        scale_pos_weight = neg / pos\n",
    "\n",
    "        # Define XGBoost classifier using parameters from config\n",
    "        xgb_clf = xgb.XGBClassifier(\n",
    "            objective='binary:logistic',\n",
    "            eval_metric='logloss',\n",
    "            scale_pos_weight=scale_pos_weight,\n",
    "            n_estimators=self.config.n_estimators,\n",
    "            max_depth=self.config.max_depth,\n",
    "            learning_rate=self.config.learning_rate\n",
    "        )\n",
    "\n",
    "        # Train the model\n",
    "        xgb_clf.fit(train_x, train_y)\n",
    "\n",
    "        # Save the trained model\n",
    "        joblib.dump(xgb_clf, os.path.join(self.config.root_dir, self.config.model_name))\n"
   ]
  },
  {
   "cell_type": "code",
   "execution_count": 10,
   "id": "28645752",
   "metadata": {},
   "outputs": [
    {
     "name": "stdout",
     "output_type": "stream",
     "text": [
      "[2025-08-07 19:26:00,914: INFO: common: Raw YAML content from WindowsPath('config/config.yaml'): {'artifacts_root': 'artifacts', 'data_ingestion': {'root_dir': 'artifacts/data_ingestion', 'source_URL': 'https://raw.githubusercontent.com/dheeraj24797/MediWatch_project/main/diabetic_data.zip', 'local_data_file': 'artifacts/data_ingestion/data.zip', 'unzip_dir': 'artifacts/data_ingestion'}, 'data_validation': {'root_dir': 'artifacts/data_validation', 'unzip_data_dir': 'artifacts/data_ingestion/diabetic_data.csv', 'STATUS_FILE': 'artifacts/data_validation/status.txt'}, 'data_transformation': {'root_dir': 'artifacts/data_transformation', 'data_path': 'artifacts/data_ingestion/diabetic_data.csv'}, 'model_trainer': {'root_dir': 'artifacts/model_trainer', 'train_data_path': 'artifacts/data_transformation/train.csv', 'test_data_path': 'artifacts/data_transformation/test.csv', 'model_name': 'model.joblib'}} (type=<class 'dict'>)]\n",
      "[2025-08-07 19:26:00,919: INFO: common: YAML file: config\\config.yaml loaded successfully]\n",
      "[2025-08-07 19:26:00,923: INFO: common: Raw YAML content from WindowsPath('params.yaml'): {'model_params': {'learning_rate': 0.01, 'n_estimators': 100, 'max_depth': 5}} (type=<class 'dict'>)]\n",
      "[2025-08-07 19:26:00,923: INFO: common: YAML file: params.yaml loaded successfully]\n",
      "[2025-08-07 19:26:00,931: INFO: common: Raw YAML content from WindowsPath('schema.yaml'): {'COLUMNS': {'encounter_id': 'int64', 'patient_nbr': 'int64', 'race': 'object', 'gender': 'object', 'age': 'object', 'weight': 'object', 'admission_type_id': 'int64', 'discharge_disposition_id': 'int64', 'admission_source_id': 'int64', 'time_in_hospital': 'int64', 'payer_code': 'object', 'medical_specialty': 'object', 'num_lab_procedures': 'int64', 'num_procedures': 'int64', 'num_medications': 'int64', 'number_outpatient': 'int64', 'number_emergency': 'int64', 'number_inpatient': 'int64', 'diag_1': 'object', 'diag_2': 'object', 'diag_3': 'object', 'number_diagnoses': 'int64', 'max_glu_serum': 'object', 'A1Cresult': 'object', 'metformin': 'object', 'repaglinide': 'object', 'nateglinide': 'object', 'chlorpropamide': 'object', 'glimepiride': 'object', 'acetohexamide': 'object', 'glipizide': 'object', 'glyburide': 'object', 'tolbutamide': 'object', 'pioglitazone': 'object', 'rosiglitazone': 'object', 'acarbose': 'object', 'miglitol': 'object', 'troglitazone': 'object', 'tolazamide': 'object', 'examide': 'object', 'citoglipton': 'object', 'insulin': 'object', 'glyburide-metformin': 'object', 'glipizide-metformin': 'object', 'glimepiride-pioglitazone': 'object', 'metformin-rosiglitazone': 'object', 'metformin-pioglitazone': 'object', 'change': 'object', 'diabetesMed': 'object'}, 'target_column': {'name': 'readmitted', 'type': 'object'}} (type=<class 'dict'>)]\n",
      "[2025-08-07 19:26:00,931: INFO: common: YAML file: schema.yaml loaded successfully]\n",
      "[2025-08-07 19:26:00,931: INFO: common: created directory at: artifacts]\n",
      "[2025-08-07 19:26:00,939: INFO: common: created directory at: artifacts/model_trainer]\n"
     ]
    },
    {
     "name": "stderr",
     "output_type": "stream",
     "text": [
      "c:\\Users\\Dheer\\OneDrive\\Desktop\\MLOps\\MediWatch_project\\env\\lib\\site-packages\\xgboost\\core.py:158: UserWarning: [19:26:03] WARNING: C:\\buildkite-agent\\builds\\buildkite-windows-cpu-autoscaling-group-i-08cbc0333d8d4aae1-1\\xgboost\\xgboost-ci-windows\\src\\learner.cc:740: \n",
      "Parameters: { \"use_label_encoder\" } are not used.\n",
      "\n",
      "  warnings.warn(smsg, UserWarning)\n"
     ]
    }
   ],
   "source": [
    "try:\n",
    "    config = ConfigurationManager()\n",
    "    model_trainer_config = config.get_model_trainer_config()\n",
    "    model_trainer_config = ModelTrainer(config=model_trainer_config)\n",
    "    model_trainer_config.train()\n",
    "except Exception as e:\n",
    "    raise e"
   ]
  }
 ],
 "metadata": {
  "kernelspec": {
   "display_name": "Python 3",
   "language": "python",
   "name": "python3"
  },
  "language_info": {
   "codemirror_mode": {
    "name": "ipython",
    "version": 3
   },
   "file_extension": ".py",
   "mimetype": "text/x-python",
   "name": "python",
   "nbconvert_exporter": "python",
   "pygments_lexer": "ipython3",
   "version": "3.9.23"
  }
 },
 "nbformat": 4,
 "nbformat_minor": 5
}
