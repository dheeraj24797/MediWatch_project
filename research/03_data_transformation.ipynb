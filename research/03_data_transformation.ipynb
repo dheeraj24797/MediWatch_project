{
 "cells": [
  {
   "cell_type": "code",
   "execution_count": 11,
   "id": "eea091dd",
   "metadata": {},
   "outputs": [],
   "source": [
    "import os"
   ]
  },
  {
   "cell_type": "code",
   "execution_count": 12,
   "id": "e7660106",
   "metadata": {},
   "outputs": [
    {
     "data": {
      "text/plain": [
       "'c:\\\\Users\\\\Dheer\\\\OneDrive\\\\Desktop\\\\MLOps\\\\MediWatch_project'"
      ]
     },
     "execution_count": 12,
     "metadata": {},
     "output_type": "execute_result"
    }
   ],
   "source": [
    "%pwd"
   ]
  },
  {
   "cell_type": "code",
   "execution_count": 13,
   "id": "8fb069c4",
   "metadata": {},
   "outputs": [],
   "source": [
    "# os.chdir(\"../\")"
   ]
  },
  {
   "cell_type": "code",
   "execution_count": 14,
   "id": "c20dad5d",
   "metadata": {},
   "outputs": [
    {
     "data": {
      "text/plain": [
       "'c:\\\\Users\\\\Dheer\\\\OneDrive\\\\Desktop\\\\MLOps\\\\MediWatch_project'"
      ]
     },
     "execution_count": 14,
     "metadata": {},
     "output_type": "execute_result"
    }
   ],
   "source": [
    "%pwd"
   ]
  },
  {
   "cell_type": "code",
   "execution_count": 15,
   "id": "ac7e7dc4",
   "metadata": {},
   "outputs": [],
   "source": [
    "from dataclasses import dataclass\n",
    "from pathlib import Path\n",
    "\n",
    "\n",
    "@dataclass(frozen=True)\n",
    "class DataTransformationConfig:\n",
    "    root_dir: Path\n",
    "    data_path: Path"
   ]
  },
  {
   "cell_type": "code",
   "execution_count": 16,
   "id": "f01cd311",
   "metadata": {},
   "outputs": [],
   "source": [
    "from Mediwatch_project.constants import *\n",
    "from Mediwatch_project.utils.common import read_yaml, create_directories"
   ]
  },
  {
   "cell_type": "code",
   "execution_count": 17,
   "id": "56a0c4dd",
   "metadata": {},
   "outputs": [],
   "source": [
    "class ConfigurationManager:\n",
    "    def __init__(\n",
    "        self,\n",
    "        config_filepath = CONFIG_FILE_PATH,\n",
    "        params_filepath = PARAMS_FILE_PATH,\n",
    "        schema_filepath = SCHEMA_FILE_PATH):\n",
    "\n",
    "        self.config = read_yaml(config_filepath)\n",
    "        self.params = read_yaml(params_filepath)\n",
    "        self.schema = read_yaml(schema_filepath)\n",
    "\n",
    "        create_directories([self.config.artifacts_root])\n",
    "\n",
    "\n",
    "    \n",
    "    def get_data_transformation_config(self) -> DataTransformationConfig:\n",
    "        config = self.config.data_transformation\n",
    "\n",
    "        create_directories([config.root_dir])\n",
    "\n",
    "        data_transformation_config = DataTransformationConfig(\n",
    "            root_dir=config.root_dir,\n",
    "            data_path=config.data_path,\n",
    "        )\n",
    "\n",
    "        return data_transformation_config"
   ]
  },
  {
   "cell_type": "code",
   "execution_count": 18,
   "id": "ec07645e",
   "metadata": {},
   "outputs": [],
   "source": [
    "import os\n",
    "from Mediwatch_project import logger\n",
    "from sklearn.model_selection import train_test_split\n",
    "import pandas as pd"
   ]
  },
  {
   "cell_type": "code",
   "execution_count": 19,
   "id": "eac02d42",
   "metadata": {},
   "outputs": [],
   "source": [
    "class DataTransformation:\n",
    "    def __init__(self, config: DataTransformationConfig):\n",
    "        self.config = config\n",
    "\n",
    "    def train_test_spliting(self):\n",
    "        df = pd.read_csv(self.config.data_path)\n",
    "\n",
    "        # Step 1: Basic Cleaning and Encoding\n",
    "        df = df[df['gender'] != 'Unknown/Invalid']\n",
    "        df['gender'] = df['gender'].map({'Male': 1, 'Female': 0})\n",
    "\n",
    "        df['race'] = df['race'].replace('?', 'Other')\n",
    "        age_map = {f'[{10*i}-{10*(i+1)})': i for i in range(10)}\n",
    "        df['age'] = df['age'].map(age_map)\n",
    "\n",
    "        for col in ['admission_type_id', 'discharge_disposition_id', 'admission_source_id']:\n",
    "            df[col] = df[col].fillna(0).astype(int)\n",
    "\n",
    "        df['change'] = df['change'].map({'No': 0, 'Ch': 1, 'Yes': 1}).fillna(0)\n",
    "        df['diabetesMed'] = df['diabetesMed'].map({'No': 0, 'Yes': 1}).fillna(0)\n",
    "\n",
    "        medication_cols = [\n",
    "            'metformin', 'repaglinide', 'nateglinide', 'chlorpropamide', 'glimepiride',\n",
    "            'acetohexamide', 'glipizide', 'glyburide', 'tolbutamide', 'pioglitazone',\n",
    "            'rosiglitazone', 'acarbose', 'miglitol', 'troglitazone', 'tolazamide',\n",
    "            'insulin', 'glyburide-metformin','glipizide-metformin', 'glimepiride-pioglitazone',\n",
    "            'metformin-rosiglitazone','metformin-pioglitazone']\n",
    "\n",
    "        med_map = {'No': 0, 'Steady': 1, 'Up': 2, 'Down': 3}\n",
    "        for col in medication_cols:\n",
    "            if col in df.columns:\n",
    "                df[col] = df[col].map(med_map).fillna(0).astype(int)\n",
    "            else:\n",
    "                print(f\"Warning: Column '{col}' not found in dataset.\")\n",
    "\n",
    "        readmitted_mapping = {'NO': 0, '>30': 0, '<30': 1}\n",
    "        df['readmitted'] = df['readmitted'].map(readmitted_mapping)\n",
    "\n",
    "        # Step 2: Diagnosis Mapping\n",
    "        def map_diag(code):\n",
    "            try:\n",
    "                code = str(code)\n",
    "                if code.startswith('V') or code.startswith('E'):\n",
    "                    return 'Other'\n",
    "                code = float(code)\n",
    "                if 390 <= code <= 459 or code == 785:\n",
    "                    return 'Circulatory'\n",
    "                elif 460 <= code <= 519 or code == 786:\n",
    "                    return 'Respiratory'\n",
    "                elif 520 <= code <= 579 or code == 787:\n",
    "                    return 'Digestive'\n",
    "                elif 250 <= code < 251:\n",
    "                    return 'Diabetes'\n",
    "                elif 800 <= code <= 999:\n",
    "                    return 'Injury'\n",
    "                elif 710 <= code <= 739:\n",
    "                    return 'Musculoskeletal'\n",
    "                elif 580 <= code <= 629 or code == 788:\n",
    "                    return 'Genitourinary'\n",
    "                elif 140 <= code <= 239:\n",
    "                    return 'Neoplasms'\n",
    "                else:\n",
    "                    return 'Other'\n",
    "            except:\n",
    "                return 'Unknown'\n",
    "\n",
    "        df['diag_1_cat'] = df['diag_1'].apply(map_diag)\n",
    "        df['diag_2_cat'] = df['diag_2'].apply(map_diag)\n",
    "        df['diag_3_cat'] = df['diag_3'].apply(map_diag)\n",
    "\n",
    "        # Step 3: Drop columns\n",
    "        cols_to_drop = ['encounter_id', 'patient_nbr', 'payer_code', 'weight', 'medical_specialty',\n",
    "                        'max_glu_serum', 'A1Cresult', 'examide', 'citoglipton',\n",
    "                        'diag_1', 'diag_2', 'diag_3']\n",
    "        df = df.drop(columns=cols_to_drop, errors='ignore')\n",
    "\n",
    "        df['gender'] = df['gender'].astype('category')\n",
    "        df['readmitted'] = df['readmitted'].astype('category')\n",
    "\n",
    "        # Step 4: One-hot encoding\n",
    "        one_hot_encode_columns = [\n",
    "            'race', 'age', 'admission_type_id', 'discharge_disposition_id', 'admission_source_id',\n",
    "            'metformin', 'repaglinide', 'nateglinide', 'chlorpropamide', 'glimepiride',\n",
    "            'acetohexamide', 'glipizide', 'glyburide', 'tolbutamide', 'pioglitazone',\n",
    "            'rosiglitazone', 'acarbose', 'miglitol', 'troglitazone', 'tolazamide',\n",
    "            'insulin', 'glyburide-metformin','glipizide-metformin', 'glimepiride-pioglitazone',\n",
    "            'metformin-rosiglitazone','metformin-pioglitazone', 'change', 'diabetesMed',\n",
    "            'diag_1_cat', 'diag_2_cat', 'diag_3_cat']\n",
    "\n",
    "        df_encoded = pd.get_dummies(df, columns=one_hot_encode_columns, drop_first=True, dtype=int)\n",
    "\n",
    "        # Step 5: Train-test split (80/20)\n",
    "        train, test = train_test_split(df_encoded, test_size=0.2, random_state=42)\n",
    "\n",
    "        train.to_csv(os.path.join(self.config.root_dir, \"train.csv\"), index=False)\n",
    "        test.to_csv(os.path.join(self.config.root_dir, \"test.csv\"), index=False)\n",
    "\n",
    "        logger.info(\"Split data into training and test sets\")\n",
    "        logger.info(f\"Train shape: {train.shape}\")\n",
    "        logger.info(f\"Test shape: {test.shape}\")\n",
    "\n",
    "        print(\"Train shape:\", train.shape)\n",
    "        print(\"Test shape:\", test.shape)\n",
    "\n"
   ]
  },
  {
   "cell_type": "code",
   "execution_count": 20,
   "id": "2c246e9f",
   "metadata": {},
   "outputs": [
    {
     "name": "stdout",
     "output_type": "stream",
     "text": [
      "[2025-08-06 19:35:45,729: INFO: common: Raw YAML content from WindowsPath('config/config.yaml'): {'artifacts_root': 'artifacts', 'data_ingestion': {'root_dir': 'artifacts/data_ingestion', 'source_URL': 'https://raw.githubusercontent.com/dheeraj24797/MediWatch_project/main/diabetic_data.zip', 'local_data_file': 'artifacts/data_ingestion/data.zip', 'unzip_dir': 'artifacts/data_ingestion'}, 'data_validation': {'root_dir': 'artifacts/data_validation', 'unzip_data_dir': 'artifacts/data_ingestion/diabetic_data.csv', 'STATUS_FILE': 'artifacts/data_validation/status.txt'}, 'data_transformation': {'root_dir': 'artifacts/data_transformation', 'data_path': 'artifacts/data_ingestion/diabetic_data.csv'}} (type=<class 'dict'>)]\n",
      "[2025-08-06 19:35:45,729: INFO: common: YAML file: config\\config.yaml loaded successfully]\n",
      "[2025-08-06 19:35:45,729: INFO: common: Raw YAML content from WindowsPath('params.yaml'): {'model_params': {'learning_rate': 0.01, 'n_estimators': 100}} (type=<class 'dict'>)]\n",
      "[2025-08-06 19:35:45,729: INFO: common: YAML file: params.yaml loaded successfully]\n",
      "[2025-08-06 19:35:45,736: INFO: common: Raw YAML content from WindowsPath('schema.yaml'): {'COLUMNS': {'encounter_id': 'int64', 'patient_nbr': 'int64', 'race': 'object', 'gender': 'object', 'age': 'object', 'weight': 'object', 'admission_type_id': 'int64', 'discharge_disposition_id': 'int64', 'admission_source_id': 'int64', 'time_in_hospital': 'int64', 'payer_code': 'object', 'medical_specialty': 'object', 'num_lab_procedures': 'int64', 'num_procedures': 'int64', 'num_medications': 'int64', 'number_outpatient': 'int64', 'number_emergency': 'int64', 'number_inpatient': 'int64', 'diag_1': 'object', 'diag_2': 'object', 'diag_3': 'object', 'number_diagnoses': 'int64', 'max_glu_serum': 'object', 'A1Cresult': 'object', 'metformin': 'object', 'repaglinide': 'object', 'nateglinide': 'object', 'chlorpropamide': 'object', 'glimepiride': 'object', 'acetohexamide': 'object', 'glipizide': 'object', 'glyburide': 'object', 'tolbutamide': 'object', 'pioglitazone': 'object', 'rosiglitazone': 'object', 'acarbose': 'object', 'miglitol': 'object', 'troglitazone': 'object', 'tolazamide': 'object', 'examide': 'object', 'citoglipton': 'object', 'insulin': 'object', 'glyburide-metformin': 'object', 'glipizide-metformin': 'object', 'glimepiride-pioglitazone': 'object', 'metformin-rosiglitazone': 'object', 'metformin-pioglitazone': 'object', 'change': 'object', 'diabetesMed': 'object'}, 'target_column': {'name': 'readmitted', 'type': 'object'}} (type=<class 'dict'>)]\n",
      "[2025-08-06 19:35:45,736: INFO: common: YAML file: schema.yaml loaded successfully]\n",
      "[2025-08-06 19:35:45,736: INFO: common: created directory at: artifacts]\n",
      "[2025-08-06 19:35:45,744: INFO: common: created directory at: artifacts/data_transformation]\n",
      "[2025-08-06 19:35:49,111: INFO: 791395085: Split data into training and test sets]\n",
      "[2025-08-06 19:35:49,114: INFO: 791395085: Train shape: (81410, 148)]\n",
      "[2025-08-06 19:35:49,114: INFO: 791395085: Test shape: (20353, 148)]\n",
      "Train shape: (81410, 148)\n",
      "Test shape: (20353, 148)\n"
     ]
    }
   ],
   "source": [
    "try:\n",
    "    config = ConfigurationManager()\n",
    "    data_transformation_config = config.get_data_transformation_config()\n",
    "    data_transformation = DataTransformation(config=data_transformation_config)\n",
    "    data_transformation.train_test_spliting()\n",
    "except Exception as e:\n",
    "    raise e"
   ]
  }
 ],
 "metadata": {
  "kernelspec": {
   "display_name": "Python 3",
   "language": "python",
   "name": "python3"
  },
  "language_info": {
   "codemirror_mode": {
    "name": "ipython",
    "version": 3
   },
   "file_extension": ".py",
   "mimetype": "text/x-python",
   "name": "python",
   "nbconvert_exporter": "python",
   "pygments_lexer": "ipython3",
   "version": "3.9.23"
  }
 },
 "nbformat": 4,
 "nbformat_minor": 5
}
